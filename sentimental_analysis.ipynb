{
  "nbformat": 4,
  "nbformat_minor": 0,
  "metadata": {
    "colab": {
      "provenance": []
    },
    "kernelspec": {
      "name": "python3",
      "display_name": "Python 3"
    },
    "language_info": {
      "name": "python"
    }
  },
  "cells": [
    {
      "cell_type": "markdown",
      "source": [
        "### Importing "
      ],
      "metadata": {
        "id": "kamOr43RVi6h"
      }
    },
    {
      "cell_type": "code",
      "source": [
        "import tensorflow as tf\n",
        "from tensorflow.keras.preprocessing.text import Tokenizer\n",
        "from tensorflow.keras.preprocessing.sequence import pad_sequences\n",
        "import numpy as np\n",
        "import pandas as pd"
      ],
      "metadata": {
        "id": "Rv8G9nboVik_"
      },
      "execution_count": null,
      "outputs": []
    },
    {
      "cell_type": "code",
      "source": [
        "path = tf.keras.utils.get_file('reviews.csv', \n",
        "                               'https://drive.google.com/uc?id=13ySLC_ue6Umt9RJYSeM2t-V0kCv-4C-P')"
      ],
      "metadata": {
        "colab": {
          "base_uri": "https://localhost:8080/"
        },
        "id": "4fRD_snPVpBw",
        "outputId": "5b82e74b-47bd-4e16-c0f5-4439ceb47a42"
      },
      "execution_count": null,
      "outputs": [
        {
          "output_type": "stream",
          "name": "stdout",
          "text": [
            "Downloading data from https://drive.google.com/uc?id=13ySLC_ue6Umt9RJYSeM2t-V0kCv-4C-P\n",
            "131072/127831 [==============================] - 0s 0us/step\n",
            "139264/127831 [================================] - 0s 0us/step\n"
          ]
        }
      ]
    },
    {
      "cell_type": "code",
      "source": [
        "dataset = pd.read_csv(path)\n",
        "dataset.head()"
      ],
      "metadata": {
        "colab": {
          "base_uri": "https://localhost:8080/",
          "height": 206
        },
        "id": "8m1ggwDGZN-y",
        "outputId": "80212e40-8a5e-4d9b-ea92-c4c88ce73d57"
      },
      "execution_count": null,
      "outputs": [
        {
          "output_type": "execute_result",
          "data": {
            "text/plain": [
              "   Unnamed: 0                                               text  sentiment\n",
              "0           0  So there is no way for me to plug it in here i...          0\n",
              "1           1                         Good case Excellent value.          1\n",
              "2           2                             Great for the jawbone.          1\n",
              "3           3  Tied to charger for conversations lasting more...          0\n",
              "4           4                                  The mic is great.          1"
            ],
            "text/html": [
              "\n",
              "  <div id=\"df-8495e1bc-9a63-46c6-9e5d-2a3098d436b6\">\n",
              "    <div class=\"colab-df-container\">\n",
              "      <div>\n",
              "<style scoped>\n",
              "    .dataframe tbody tr th:only-of-type {\n",
              "        vertical-align: middle;\n",
              "    }\n",
              "\n",
              "    .dataframe tbody tr th {\n",
              "        vertical-align: top;\n",
              "    }\n",
              "\n",
              "    .dataframe thead th {\n",
              "        text-align: right;\n",
              "    }\n",
              "</style>\n",
              "<table border=\"1\" class=\"dataframe\">\n",
              "  <thead>\n",
              "    <tr style=\"text-align: right;\">\n",
              "      <th></th>\n",
              "      <th>Unnamed: 0</th>\n",
              "      <th>text</th>\n",
              "      <th>sentiment</th>\n",
              "    </tr>\n",
              "  </thead>\n",
              "  <tbody>\n",
              "    <tr>\n",
              "      <th>0</th>\n",
              "      <td>0</td>\n",
              "      <td>So there is no way for me to plug it in here i...</td>\n",
              "      <td>0</td>\n",
              "    </tr>\n",
              "    <tr>\n",
              "      <th>1</th>\n",
              "      <td>1</td>\n",
              "      <td>Good case Excellent value.</td>\n",
              "      <td>1</td>\n",
              "    </tr>\n",
              "    <tr>\n",
              "      <th>2</th>\n",
              "      <td>2</td>\n",
              "      <td>Great for the jawbone.</td>\n",
              "      <td>1</td>\n",
              "    </tr>\n",
              "    <tr>\n",
              "      <th>3</th>\n",
              "      <td>3</td>\n",
              "      <td>Tied to charger for conversations lasting more...</td>\n",
              "      <td>0</td>\n",
              "    </tr>\n",
              "    <tr>\n",
              "      <th>4</th>\n",
              "      <td>4</td>\n",
              "      <td>The mic is great.</td>\n",
              "      <td>1</td>\n",
              "    </tr>\n",
              "  </tbody>\n",
              "</table>\n",
              "</div>\n",
              "      <button class=\"colab-df-convert\" onclick=\"convertToInteractive('df-8495e1bc-9a63-46c6-9e5d-2a3098d436b6')\"\n",
              "              title=\"Convert this dataframe to an interactive table.\"\n",
              "              style=\"display:none;\">\n",
              "        \n",
              "  <svg xmlns=\"http://www.w3.org/2000/svg\" height=\"24px\"viewBox=\"0 0 24 24\"\n",
              "       width=\"24px\">\n",
              "    <path d=\"M0 0h24v24H0V0z\" fill=\"none\"/>\n",
              "    <path d=\"M18.56 5.44l.94 2.06.94-2.06 2.06-.94-2.06-.94-.94-2.06-.94 2.06-2.06.94zm-11 1L8.5 8.5l.94-2.06 2.06-.94-2.06-.94L8.5 2.5l-.94 2.06-2.06.94zm10 10l.94 2.06.94-2.06 2.06-.94-2.06-.94-.94-2.06-.94 2.06-2.06.94z\"/><path d=\"M17.41 7.96l-1.37-1.37c-.4-.4-.92-.59-1.43-.59-.52 0-1.04.2-1.43.59L10.3 9.45l-7.72 7.72c-.78.78-.78 2.05 0 2.83L4 21.41c.39.39.9.59 1.41.59.51 0 1.02-.2 1.41-.59l7.78-7.78 2.81-2.81c.8-.78.8-2.07 0-2.86zM5.41 20L4 18.59l7.72-7.72 1.47 1.35L5.41 20z\"/>\n",
              "  </svg>\n",
              "      </button>\n",
              "      \n",
              "  <style>\n",
              "    .colab-df-container {\n",
              "      display:flex;\n",
              "      flex-wrap:wrap;\n",
              "      gap: 12px;\n",
              "    }\n",
              "\n",
              "    .colab-df-convert {\n",
              "      background-color: #E8F0FE;\n",
              "      border: none;\n",
              "      border-radius: 50%;\n",
              "      cursor: pointer;\n",
              "      display: none;\n",
              "      fill: #1967D2;\n",
              "      height: 32px;\n",
              "      padding: 0 0 0 0;\n",
              "      width: 32px;\n",
              "    }\n",
              "\n",
              "    .colab-df-convert:hover {\n",
              "      background-color: #E2EBFA;\n",
              "      box-shadow: 0px 1px 2px rgba(60, 64, 67, 0.3), 0px 1px 3px 1px rgba(60, 64, 67, 0.15);\n",
              "      fill: #174EA6;\n",
              "    }\n",
              "\n",
              "    [theme=dark] .colab-df-convert {\n",
              "      background-color: #3B4455;\n",
              "      fill: #D2E3FC;\n",
              "    }\n",
              "\n",
              "    [theme=dark] .colab-df-convert:hover {\n",
              "      background-color: #434B5C;\n",
              "      box-shadow: 0px 1px 3px 1px rgba(0, 0, 0, 0.15);\n",
              "      filter: drop-shadow(0px 1px 2px rgba(0, 0, 0, 0.3));\n",
              "      fill: #FFFFFF;\n",
              "    }\n",
              "  </style>\n",
              "\n",
              "      <script>\n",
              "        const buttonEl =\n",
              "          document.querySelector('#df-8495e1bc-9a63-46c6-9e5d-2a3098d436b6 button.colab-df-convert');\n",
              "        buttonEl.style.display =\n",
              "          google.colab.kernel.accessAllowed ? 'block' : 'none';\n",
              "\n",
              "        async function convertToInteractive(key) {\n",
              "          const element = document.querySelector('#df-8495e1bc-9a63-46c6-9e5d-2a3098d436b6');\n",
              "          const dataTable =\n",
              "            await google.colab.kernel.invokeFunction('convertToInteractive',\n",
              "                                                     [key], {});\n",
              "          if (!dataTable) return;\n",
              "\n",
              "          const docLinkHtml = 'Like what you see? Visit the ' +\n",
              "            '<a target=\"_blank\" href=https://colab.research.google.com/notebooks/data_table.ipynb>data table notebook</a>'\n",
              "            + ' to learn more about interactive tables.';\n",
              "          element.innerHTML = '';\n",
              "          dataTable['output_type'] = 'display_data';\n",
              "          await google.colab.output.renderOutput(dataTable, element);\n",
              "          const docLink = document.createElement('div');\n",
              "          docLink.innerHTML = docLinkHtml;\n",
              "          element.appendChild(docLink);\n",
              "        }\n",
              "      </script>\n",
              "    </div>\n",
              "  </div>\n",
              "  "
            ]
          },
          "metadata": {},
          "execution_count": 5
        }
      ]
    },
    {
      "cell_type": "code",
      "source": [
        "import string\n",
        "import re\n",
        "import nltk\n",
        "punch = string.punctuation"
      ],
      "metadata": {
        "id": "lwheJ6JInSFA"
      },
      "execution_count": null,
      "outputs": []
    },
    {
      "cell_type": "code",
      "source": [
        "def clean_text(text):\n",
        "    non_punch = ''\n",
        "    for i in text:\n",
        "        if i not in string.punctuation:\n",
        "            non_punch += i\n",
        "    split_text = re.split('\\W+',non_punch)\n",
        "    stop = nltk.corpus.stopwords.words('english')\n",
        "    word_lst = []\n",
        "    for i in split_text:\n",
        "        if i not in stop:\n",
        "            word_lst.append(i)\n",
        "    wn = nltk.WordNetLemmatizer()\n",
        "    return [wn.lemmatize(word).lower() for word in word_lst]            \n"
      ],
      "metadata": {
        "id": "8K78If6arLz6"
      },
      "execution_count": null,
      "outputs": []
    },
    {
      "cell_type": "code",
      "source": [
        "def clean(text):\n",
        "  s = ''\n",
        "  for c in text:\n",
        "    if c not in punch and c.isdigit() == False:\n",
        "      s += c\n",
        "  return s.lower()"
      ],
      "metadata": {
        "id": "ONXyudPQnq5u"
      },
      "execution_count": null,
      "outputs": []
    },
    {
      "cell_type": "code",
      "source": [
        "# nltk.download('stopwords')"
      ],
      "metadata": {
        "id": "TumUEhA-qF5D"
      },
      "execution_count": null,
      "outputs": []
    },
    {
      "cell_type": "code",
      "source": [
        "clean(\"AS##%$#2sdsd\")"
      ],
      "metadata": {
        "colab": {
          "base_uri": "https://localhost:8080/",
          "height": 35
        },
        "id": "iktICADqn3nb",
        "outputId": "f8abf1bb-f14d-4c29-a14e-ef5b2080f7b3"
      },
      "execution_count": null,
      "outputs": [
        {
          "output_type": "execute_result",
          "data": {
            "text/plain": [
              "'assdsd'"
            ],
            "application/vnd.google.colaboratory.intrinsic+json": {
              "type": "string"
            }
          },
          "metadata": {},
          "execution_count": 46
        }
      ]
    },
    {
      "cell_type": "code",
      "source": [
        "dataset[\"text\"] = dataset[\"text\"].apply(lambda row:clean(row))"
      ],
      "metadata": {
        "id": "yokGpELwnB-9"
      },
      "execution_count": null,
      "outputs": []
    },
    {
      "cell_type": "code",
      "source": [
        "from sklearn.model_selection import train_test_split"
      ],
      "metadata": {
        "id": "REHHXFw2Z0he"
      },
      "execution_count": null,
      "outputs": []
    },
    {
      "cell_type": "code",
      "source": [
        "X_train, X_test, y_train, y_test = train_test_split(dataset[\"text\"], dataset[\"sentiment\"], test_size=0.33, random_state=42)"
      ],
      "metadata": {
        "id": "JIal-uFDZ1J0"
      },
      "execution_count": null,
      "outputs": []
    },
    {
      "cell_type": "code",
      "source": [
        "vocab_size = 1000\n",
        "embedding_dim = 16\n",
        "max_length = 100\n",
        "trunc_type = \"post\"\n",
        "padding_type = \"post\"\n",
        "oov_tok = \"<OOV>\""
      ],
      "metadata": {
        "id": "EcwbviBlZ1Nr"
      },
      "execution_count": null,
      "outputs": []
    },
    {
      "cell_type": "code",
      "source": [
        "tokenizer = Tokenizer(num_words = vocab_size,oov_token=oov_tok)"
      ],
      "metadata": {
        "id": "D5M28Vi2Z1R-"
      },
      "execution_count": null,
      "outputs": []
    },
    {
      "cell_type": "code",
      "source": [
        "from pygments import token\n",
        "tokenizer.fit_on_texts(np.array(X_train))\n",
        "word_index = tokenizer.word_index"
      ],
      "metadata": {
        "id": "-TXEa8hAbVeG"
      },
      "execution_count": null,
      "outputs": []
    },
    {
      "cell_type": "code",
      "source": [
        "sequence = tokenizer.texts_to_sequences(np.array(X_train)) \n",
        "padded = pad_sequences(sequence,maxlen=max_length,padding=padding_type\n",
        "                       ,truncating=trunc_type)"
      ],
      "metadata": {
        "id": "ricfWSdXcWlF"
      },
      "execution_count": null,
      "outputs": []
    },
    {
      "cell_type": "code",
      "source": [
        "test_seq = tokenizer.texts_to_sequences(np.array(X_test)) \n",
        "test_pad = pad_sequences(test_seq,maxlen=max_length,padding=padding_type\n",
        "                       ,truncating=trunc_type)"
      ],
      "metadata": {
        "id": "t9nDYEkQceOt"
      },
      "execution_count": null,
      "outputs": []
    },
    {
      "cell_type": "code",
      "source": [
        "model = tf.keras.Sequential([\n",
        "    tf.keras.layers.Embedding(vocab_size,embedding_dim,input_length=max_length),\n",
        "    tf.keras.layers.Flatten(),\n",
        "    tf.keras.layers.Dense(6,activation=\"relu\"),\n",
        "    tf.keras.layers.Dense(1,activation=\"sigmoid\")\n",
        "])"
      ],
      "metadata": {
        "id": "kOdyWv9Jckn2"
      },
      "execution_count": null,
      "outputs": []
    },
    {
      "cell_type": "code",
      "source": [
        "model.compile(loss=\"binary_crossentropy\",optimizer=\"adam\",metrics=[\"accuracy\"])"
      ],
      "metadata": {
        "id": "28s3kuWPcw8m"
      },
      "execution_count": null,
      "outputs": []
    },
    {
      "cell_type": "code",
      "source": [
        "model.summary()"
      ],
      "metadata": {
        "colab": {
          "base_uri": "https://localhost:8080/"
        },
        "id": "Pz2ZYdikc_wt",
        "outputId": "18527793-630b-428d-f135-4b5d7f4220d5"
      },
      "execution_count": null,
      "outputs": [
        {
          "output_type": "stream",
          "name": "stdout",
          "text": [
            "Model: \"sequential\"\n",
            "_________________________________________________________________\n",
            " Layer (type)                Output Shape              Param #   \n",
            "=================================================================\n",
            " embedding (Embedding)       (None, 100, 16)           16000     \n",
            "                                                                 \n",
            " flatten (Flatten)           (None, 1600)              0         \n",
            "                                                                 \n",
            " dense (Dense)               (None, 6)                 9606      \n",
            "                                                                 \n",
            " dense_1 (Dense)             (None, 1)                 7         \n",
            "                                                                 \n",
            "=================================================================\n",
            "Total params: 25,613\n",
            "Trainable params: 25,613\n",
            "Non-trainable params: 0\n",
            "_________________________________________________________________\n"
          ]
        }
      ]
    },
    {
      "cell_type": "code",
      "source": [
        "num_epochs = 10\n",
        "model.fit(padded,np.array(y_train),\n",
        "          epochs=num_epochs,\n",
        "          validation_data=(test_pad,np.array(y_test)))"
      ],
      "metadata": {
        "colab": {
          "base_uri": "https://localhost:8080/"
        },
        "id": "DOndL7YBdB0F",
        "outputId": "0cb23378-5104-421a-de76-67cb6cea5d69"
      },
      "execution_count": null,
      "outputs": [
        {
          "output_type": "stream",
          "name": "stdout",
          "text": [
            "Epoch 1/10\n",
            "42/42 [==============================] - 1s 8ms/step - loss: 0.6932 - accuracy: 0.5090 - val_loss: 0.6931 - val_accuracy: 0.4863\n",
            "Epoch 2/10\n",
            "42/42 [==============================] - 0s 4ms/step - loss: 0.6923 - accuracy: 0.5307 - val_loss: 0.6927 - val_accuracy: 0.5426\n",
            "Epoch 3/10\n",
            "42/42 [==============================] - 0s 3ms/step - loss: 0.6894 - accuracy: 0.5772 - val_loss: 0.6902 - val_accuracy: 0.6565\n",
            "Epoch 4/10\n",
            "42/42 [==============================] - 0s 3ms/step - loss: 0.6794 - accuracy: 0.5945 - val_loss: 0.6803 - val_accuracy: 0.6505\n",
            "Epoch 5/10\n",
            "42/42 [==============================] - 0s 3ms/step - loss: 0.6436 - accuracy: 0.7069 - val_loss: 0.6524 - val_accuracy: 0.6064\n",
            "Epoch 6/10\n",
            "42/42 [==============================] - 0s 4ms/step - loss: 0.5514 - accuracy: 0.8381 - val_loss: 0.5880 - val_accuracy: 0.7538\n",
            "Epoch 7/10\n",
            "42/42 [==============================] - 0s 3ms/step - loss: 0.4401 - accuracy: 0.8801 - val_loss: 0.5226 - val_accuracy: 0.7796\n",
            "Epoch 8/10\n",
            "42/42 [==============================] - 0s 4ms/step - loss: 0.3268 - accuracy: 0.9228 - val_loss: 0.4734 - val_accuracy: 0.7933\n",
            "Epoch 9/10\n",
            "42/42 [==============================] - 0s 4ms/step - loss: 0.2345 - accuracy: 0.9505 - val_loss: 0.4550 - val_accuracy: 0.7903\n",
            "Epoch 10/10\n",
            "42/42 [==============================] - 0s 5ms/step - loss: 0.1828 - accuracy: 0.9595 - val_loss: 0.4406 - val_accuracy: 0.7903\n"
          ]
        },
        {
          "output_type": "execute_result",
          "data": {
            "text/plain": [
              "<keras.callbacks.History at 0x7effb0d751d0>"
            ]
          },
          "metadata": {},
          "execution_count": 32
        }
      ]
    },
    {
      "cell_type": "code",
      "source": [
        "# import io\n",
        "# out_v = io.open(\"vecs.tsv\",\"w\",encoding='utf-8')\n",
        "# out_m = io.open(\"meta.tsv\",\"w\",encoding='utf-8')\n",
        "# for word_num in range(1,vocab_size):\n",
        "#   word = reverse_word_index[word_num]\n",
        "#   embeddings = weights[word_num]\n",
        "#   out_m.write(word+\"\\n\")\n",
        "#   out_v.write(\"\\t\".join([str(x) for x in embeddings])+\"\\n\")\n",
        "\n",
        "# out_v.close()\n",
        "# out_m.close()"
      ],
      "metadata": {
        "id": "atWjtGZLdfnu"
      },
      "execution_count": null,
      "outputs": []
    },
    {
      "cell_type": "code",
      "source": [
        "def predict(text):\n",
        "  prod_seq = tokenizer.texts_to_sequences(np.array([text])) \n",
        "  prod_pad = pad_sequences(prod_seq,maxlen=max_length,padding=padding_type\n",
        "                       ,truncating=trunc_type)  \n",
        "  pred = round(model.predict(prod_pad)[0][0])\n",
        "  print(text+\" : \",\"positive\" if pred == 1 else \"negative\",\"sentence\")"
      ],
      "metadata": {
        "id": "xB_wLkhNhSyG"
      },
      "execution_count": null,
      "outputs": []
    },
    {
      "cell_type": "code",
      "source": [
        "predict(\"no jokes today just pain\")\n",
        "predict(\"i want 2000 girlfriend\")\n",
        "predict(\"hey i want to tell you something\")\n",
        "predict(\"i love you\")\n",
        "predict(\"you are arrested for stealing my heart\")\n",
        "predict(\"oh my god i am in love\")"
      ],
      "metadata": {
        "colab": {
          "base_uri": "https://localhost:8080/"
        },
        "id": "qDq5hjackVOh",
        "outputId": "ddbce457-e19c-4e1c-f7a8-0d001fccf14c"
      },
      "execution_count": null,
      "outputs": [
        {
          "output_type": "stream",
          "name": "stdout",
          "text": [
            "no jokes today just pain :  positive sentence\n",
            "i want 2000 girlfriend :  positive sentence\n",
            "hey i want to tell you something :  negative sentence\n",
            "i love you :  positive sentence\n",
            "you are arrested for stealing my heart :  positive sentence\n",
            "oh my god i am in love :  positive sentence\n"
          ]
        }
      ]
    },
    {
      "cell_type": "code",
      "source": [],
      "metadata": {
        "id": "EUikOCNUkXYE"
      },
      "execution_count": null,
      "outputs": []
    },
    {
      "cell_type": "code",
      "source": [],
      "metadata": {
        "id": "gGv1NPGFkYgF"
      },
      "execution_count": null,
      "outputs": []
    }
  ]
}